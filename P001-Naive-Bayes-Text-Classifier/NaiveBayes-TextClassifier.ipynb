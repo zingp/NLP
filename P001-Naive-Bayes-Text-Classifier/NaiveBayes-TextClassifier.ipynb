{
 "cells": [
  {
   "cell_type": "markdown",
   "metadata": {},
   "source": [
    "# 朴素贝叶斯算法原理与搜狗新闻分类实战"
   ]
  },
  {
   "cell_type": "markdown",
   "metadata": {},
   "source": [
    "## 贝叶斯公式\n",
    "贝叶斯公式就一行：\n",
    "\n",
    "$$P(Y|X)=P(X|Y)P(Y)/P(X)$$\n",
    "而它其实是由以下的联合概率公式推导出来：\n",
    "\n",
    "$$P(Y,X)=P(Y|X)P(X)=P(X|Y)P(Y)$$\n",
    "其中$P(Y)$叫做先验概率， $P(Y|X)$叫做后验概率，$P(Y,X)$叫做联合概率。\n",
    "\n",
    "没了，贝叶斯最核心的公式就这么些。\n",
    "\n",
    "## 机器学习的视角理解贝叶斯公式\n",
    "在机器学习的视角下，我们把 X 理解成“具有某特征”，把 Y 理解成“类别标签”(一般机器学习为题中都是X=>特征, Y=>结果对吧)。在最简单的二分类问题(是与否判定)下，我们将 Y 理解成“属于某类”的标签。于是贝叶斯公式就变形成了下面的样子:\n",
    "\n",
    "$$P(“属于某类”|“具有某特征”)=P(“具有某特征”|“属于某类”)P(“属于某类”)P(“具有某特征”)$$ \n",
    "我们简化解释一下上述公式：\n",
    "\n",
    "- $P(“属于某类”|“具有某特征”)=$在已知某样本“具有某特征”的条件下，该样本“属于某类”的概率。所以叫做『后验概率』。\n",
    "- $P(“具有某特征”|“属于某类”)$= 在已知某样本“属于某类”的条件下，该样本“具有某特征”的概率。 \n",
    "- $P(“属于某类”)$= （在未知某样本具有该“具有某特征”的条件下，）该样本“属于某类”的概率。所以叫做『先验概率』。\n",
    "- $P(“具有某特征”)$= (在未知某样本“属于某类”的条件下，)该样本“具有某特征”的概率。\n",
    "\n",
    "而我们二分类问题的最终目的就是要判断$P(“属于某类”|“具有某特征”)$是否大于1/2就够了。贝叶斯方法把计算**\"具有某特征的条件下属于某类\"**的概率转换成需要计算“属于某类的条件下具有某特征”的概率，而后者获取方法就简单多了，我们只需要找到一些包含已知特征标签的样本，即可进行训练。而样本的类别标签都是明确的，所以贝叶斯方法在机器学习里属于有监督学习方法。\n",
    "\n",
    "这里再补充一下，一般『先验概率』、『后验概率』是相对出现的，比如 P(Y) 与 P(Y|X) 是关于 Y 的先验概率与后验概率， P(X) 与 P(X|Y) 是关于 X 的先验概率与后验概率。"
   ]
  },
  {
   "cell_type": "markdown",
   "metadata": {},
   "source": [
    "## 搜狗新闻主题分类\n",
    "- 这是一个文本分类问题，经典的新闻主题分类，下面用朴素贝叶斯来做\n",
    "- 数据集可百度网盘下载：链接:https://pan.baidu.com/s/14yMZNWrrgO7FVlGw4vLS3A  密码:wg90"
   ]
  },
  {
   "cell_type": "code",
   "execution_count": 1,
   "metadata": {},
   "outputs": [],
   "source": [
    "import os\n",
    "import time\n",
    "import random\n",
    "import jieba  # 处理中文\n",
    "import nltk   # 处理英文\n",
    "import sklearn\n",
    "from sklearn.naive_bayes import MultinomialNB\n",
    "import numpy as np\n",
    "import pylab as pl\n",
    "import matplotlib.pyplot as plt\n",
    "from collections import Counter"
   ]
  },
  {
   "cell_type": "code",
   "execution_count": 2,
   "metadata": {},
   "outputs": [],
   "source": [
    "def text_processing(folder_path, test_rate=0.2):\n",
    "    data_list = []\n",
    "    label_list = []\n",
    "\n",
    "    folder_list = os.listdir(folder_path)\n",
    "    for folder in folder_list:\n",
    "        text_folder_path = os.path.join(folder_path, folder)\n",
    "        text_files = os.listdir(text_folder_path)\n",
    "\n",
    "        # 读取每个文件\n",
    "        n = 1\n",
    "        for file in text_files:\n",
    "            if n > 100:\n",
    "                # 怕内存爆掉，只取100个样本文件，后期可以注释掉\n",
    "                print(\"n>100\")\n",
    "                break\n",
    "            with open(os.path.join(text_folder_path, file), \"r\") as f:\n",
    "                text = f.read()\n",
    "                # read() 返回值为str，每次读取整个文件，将文件所有内容放到一个字符串变量中\n",
    "                # readline() 返回值为str，每次只读取一行,每行的内容放在一个字符串变量中\n",
    "                # readlines() 返回值为list，一次读取整个文件，每行的内容放在一个字符串变量中作为列表的一个元素。\n",
    "\n",
    "            # 使用jieba分词\n",
    "            # 开启并行分词,参数为并行进程数\n",
    "            jieba.enable_parallel()\n",
    "            word_cut = jieba.cut(text, cut_all=False) # 精确模式，返回的结构是一个可迭代的genertor\n",
    "            word_list = list(word_cut)\n",
    "            jieba.disable_parallel() # 关闭并行分词模式\n",
    "\n",
    "            data_list.append(word_list) # 训练集list\n",
    "            label_list.append(folder)  # 训练集标签分类\n",
    "            n += 1\n",
    "\n",
    "    # 划分数据集和测试集\n",
    "    data_label_list = list(zip(data_list, label_list))\n",
    "    random.shuffle(data_label_list)\n",
    "\n",
    "    idx = int(len(data_label_list)*test_rate)+1\n",
    "    print(\"总样本数：\", len(data_label_list))\n",
    "    train_list = data_label_list[idx:]\n",
    "    test_list = data_label_list[:idx]\n",
    "    # print(train_list)\n",
    "    \n",
    "    # 这里返回包含一组列表的元祖（[]）\n",
    "    train_data_li, train_label_li = zip(*train_list)\n",
    "    test_data_li, test_label_li = zip(*test_list)\n",
    "\n",
    "    # 统计词频，得到词频逆序字典?为什么不用总的样本来统计词频而是用训练集\n",
    "    vocab_dict = dict(Counter([w for li in train_data_li for w in li]))\n",
    "    vocab_list = sorted(vocab_dict.items(), key=lambda f: f[1], reverse=True)\n",
    "\n",
    "    vocab_list, _ = zip(*vocab_list)\n",
    "    vocab_list = list(vocab_list)\n",
    "    return vocab_list, train_data_li, train_label_li, test_data_li, test_label_li"
   ]
  },
  {
   "cell_type": "code",
   "execution_count": 4,
   "metadata": {},
   "outputs": [
    {
     "name": "stderr",
     "output_type": "stream",
     "text": [
      "Building prefix dict from the default dictionary ...\n",
      "Loading model from cache /tmp/jieba.cache\n",
      "Loading model cost 1.009 seconds.\n",
      "Prefix dict has been built succesfully.\n"
     ]
    },
    {
     "name": "stdout",
     "output_type": "stream",
     "text": [
      "总样本数： 90\n",
      "词汇个数： 9875\n",
      "训练集样本个数： 71\n",
      "测试集样本个数： 19\n",
      "训练集标签： 71\n",
      "测试集标签： 19\n"
     ]
    }
   ],
   "source": [
    "random.seed(2019)\n",
    "folder_path = \"Database/SogouC/Sample\"\n",
    "vocab_list, train_data_list, train_label_list, test_data_list, test_label_list = text_processing(folder_path, test_rate=0.2)\n",
    "print(\"词汇个数：\", len(vocab_list))   \n",
    "print(\"训练集样本个数：\", len(train_data_list)) \n",
    "print(\"测试集样本个数：\", len(test_data_list)) \n",
    "print(\"训练集标签：\", len(train_label_list)) \n",
    "print(\"测试集标签：\", len(test_label_list)) "
   ]
  },
  {
   "cell_type": "markdown",
   "metadata": {},
   "source": [
    "## 停用词去重\n",
    "- 清洗停用词"
   ]
  },
  {
   "cell_type": "code",
   "execution_count": 6,
   "metadata": {},
   "outputs": [],
   "source": [
    "# 词去重\n",
    "def make_word_set(words_file):\n",
    "    words_set = set()\n",
    "    with open(words_file, \"r\") as f:\n",
    "        for line in f:\n",
    "            word = line.strip()\n",
    "            if len(word) > 0 and word not in words_set:\n",
    "                words_set.add(word)\n",
    "    return words_set"
   ]
  },
  {
   "cell_type": "code",
   "execution_count": 7,
   "metadata": {},
   "outputs": [
    {
     "name": "stdout",
     "output_type": "stream",
     "text": [
      "停用词个数： 428\n",
      "stopwords_set: {'甚至于', '仍旧', '并不', '此次', '全体', '所', '依照', '沿着', '嘛', '否则', '才是', '何处', '万一', '可以', '曾', '但', '且', '您', '那样', '嗡', '或是', '下', '鉴于', '而外', '还是', '另外', '吧', '既然', '说来', '尔', '当地', '这会', '被', '他们', '然而', '本地', '那时', '甚至', '一', '或者说', '或', '受到', '别处', '了', '哟', '诸', '不论', '哪些', '其余', '凡', '只消', '上', '彼此', '哪', '这', '即', '何况', '进而', '果然', '由于', '不尽', '因而', '不单', '距', '之', '多会', '与', '及至', '就是说', '则', '与否', '这里', '例如', '此外', '多么', '朝着', '只有', '简言之', '来自', '这么', '随', '由此', '这边', '后者', '所在', '往', '哪怕', '此处', '既往', '唯有', '不只', '仍', '比如', '以来', '许多', '致', '就是', '是', '若是', '去', '又及', '趁', '又', '同', '除外', '个人', '至今', '宁可', '它们', '由', '使', '得', '在于', '此', '向着', '我', '而已', '个', '全部', '如上', '不然', '比', '两者', '跟', '另', '你', '个别', '自己', '为了', '此间', '那儿', '介于', '诸位', '无', '就算', '一切', '嘻嘻', '有的', '对比', '接着', '倘若', '呵呵', '一些', '只', '一旦', '儿', '前者', '那些', '本着', '譬如', '只限于', '再有', '啦', '而是', '出来', '除非', '怎么办', '所有', '连带', '别的', '不仅', '何以', '自从', '或者', '从', '某些', '当然', '虽然', '正巧', '即便', '至', '即使', '让', '什么', '小', '于', '继而', '还要', '关于', '么', '经过', '和', '那里', '虽说', '怎样', '以免', '本人', '值此', '按照', '截至', '为此', '沿', '据此', '另一方面', '可见', '其', '连同', '我们', '各位', '与其', '也', '而后', '既', '不料', '况且', '来说', '某某', '嘿嘿', '格里斯', '故而', '尽管如此', '人', '很', '替代', '什么的', '假如', '及', '以至', '再', '一来', '不是', '正是', '较之', '这般', '从而', '其它', '给', '对待', '怎么样', '今', '起', '自', '既是', '这儿', '来', '自身', '啥', '因之', '根据', '每', '看', '只需', '并且', '正值', '只限', '如是', '基于', '到', '她们', '各', '为', '以', '着', '遵照', '对方', '以为', '只因', '不管', '最', '首先', '并非', '除了', '他', '任何', '依据', '随着', '总之', '同时', '如果说', '们', '某个', '凭借', '不如', '于是', '用来', '拿', '那么', '不外乎', '这些', '彼时', '几', '以及', '据', '那', '打', '要不', '处在', '那边', '等等', '再则', '从此', '哪个', '随后', '在', '可是', '你们', '除此', '反而', '的', '遵循', '别', '至于', '别人', '的确', '为止', '作为', '靠', '随时', '人们', '尽管', '已', '不仅仅', '怎', '如同下', '只怕', '有时', '就要', '后', '本身', '其次', '此地', '咱们', '以上', '这个', '对于', '如若', '为什么', '这样', '才能', '有些', '各自', '因', '要不然', '因为', '那个', '咱', '此时', '凭', '何', '该', '的话', '加之', '便于', '哪儿', '似的', '其中', '诸如', '若非', '其他', '多少', '不', '它', '直到', '大家', '谁人', '得了', '为何', '非但', '别说', '以致', '她', '如此', '分别', '甚而', '正如', '用', '每当', '可', '要么', '虽', '开外', '固然', '加以', '但是', '若', '却', '还有', '而且', '何时', '他人', '不过', '要是', '逐步', '以便', '如何', '然后', '为着', '不光', '如', '有关', '乃至', '某', '趁着', '只要', '只是', '凡是', '哇', '反之', '针对', '照着', '无论', '那般', '不但', '向', '乃', '还', '把', '并', '因此', '亦', '有', '当', '什么样', '如果', '谁', '出于', '如下', '而', '怎么', '赖以', '些', '不至于', '所以', '毋宁', '不尽然', '之所以', '光是', '好'}\n"
     ]
    }
   ],
   "source": [
    "stopwords_file = \"./stopwords_cn.txt\"\n",
    "stopwords_set = make_word_set(stopwords_file)  # 去重后的停用词\n",
    "print(\"停用词个数：\", len(stopwords_set))\n",
    "print(\"stopwords_set:\", stopwords_set)"
   ]
  },
  {
   "cell_type": "markdown",
   "metadata": {},
   "source": [
    "## 从词袋中选取有代表的特征词\n",
    "- 第一步生成的词袋里有很多通用的、无意义的词语，需要去掉。  \n",
    "- 有代表性的词语很大概率是一些对最终类别区分有作用的词语。并且后面这些词语会作为特征作为模型的输入。"
   ]
  },
  {
   "cell_type": "code",
   "execution_count": 9,
   "metadata": {},
   "outputs": [],
   "source": [
    "def vocab_select(vocab_list, deleteN, stopwords_set=set()):\n",
    "    # 选取特征词\n",
    "    feature_words = []\n",
    "    n = 1\n",
    "    # 从deleteN 开始，舍弃前从deleteN个单词\n",
    "    # 因为越前面的词词频越高，在所有类别中都可能出现很多次\n",
    "    for t in range(deleteN, len(vocab_list), 1):\n",
    "        if n > 1000:\n",
    "            # 选取1000个词汇，也就是特征词是1000\n",
    "            break\n",
    "        # 满足三个条件：不是数字；不在停用词表；长度2～4就添加到特征词列表\n",
    "        if not vocab_list[t].isdigit() and \\\n",
    "            vocab_list[t] not in stopwords_set and \\\n",
    "            1<len(vocab_list[t])<5:\n",
    "                feature_words.append(vocab_list[t])\n",
    "                n += 1\n",
    "    return feature_words"
   ]
  },
  {
   "cell_type": "code",
   "execution_count": 10,
   "metadata": {},
   "outputs": [
    {
     "name": "stdout",
     "output_type": "stream",
     "text": [
      "['公司', '一个', '游客', '旅游', '导弹', '考生', '大陆', '认为', '火炮', '台军', '进行', '时间', '一种', '解放军', '各种', '美国', '没有', '北京', '市场', '作战', '支付', '志愿', '成为', '已经', '仿制', '发展', '复习', '远程', '工作', '很多', '建设', '主要', '可能', '目前', '通过', '企业', '五一', '问题', '品牌', '学习', '黄金周', '射程', '银行', '技术', '一定', '部分', '基础', '增长', '部署', '分析', '上海', '亿美元', '学校', '考试', '词汇', '选择', '辅导班', '期间', '完全', '能力', '记者', '文章', '时候', '表示', '训练', '专业', '毕业生', '部队', '需要', '重要', '专家', '收入', '提高', '填报', '今年', '军事', '阵地', '计划', '必须', '达到', '坦克', '影响', '用户', '电话', '管理', '科学', '开始', '拥有', '表现', '资料', '万人次', '几乎', '来源', '发现', '相关', '准备', '服务', '提供', '要求', '销售']\n"
     ]
    }
   ],
   "source": [
    "deleteN = 20 \n",
    "# 删除前词频高的top20个词语,可以调整这个数值\n",
    "feature_words = vocab_select(vocab_list, deleteN, stopwords_set)\n",
    "print(feature_words[:100])"
   ]
  },
  {
   "cell_type": "markdown",
   "metadata": {},
   "source": [
    "## 训练和测试集生成固定长度的词向量特征\n",
    "- 这步为后面数据输入进贝叶斯模型训练做准备。\n",
    "- 因为文本长度不一，所以每个样本需要固定好维度，才能喂给模型训练。\n",
    "- nltk 与sklearn中的训练数据类型不一样，应该分别处理"
   ]
  },
  {
   "cell_type": "code",
   "execution_count": 12,
   "metadata": {},
   "outputs": [],
   "source": [
    "def text_features(train_data_list, test_data_list, feature_words, flag=\"nltk\"):\n",
    "    def text_features(text, feature_words):\n",
    "        text_words = set(text) # 样本去重\n",
    "        if flag == \"nltk\":\n",
    "            # 遍历每个样本词语，凡是样本的词语出现在1000个特征词里，就记录下来，\n",
    "            # 由于nltk特征 dict, 需要将特征保存为字典格式，键为词语，值为1，否则值为0。\n",
    "            features = {word:1 if word in text_words else 0 for word in feature_words}\n",
    "        elif flag == \"sklearn\":\n",
    "            # sklearn输入是列表\n",
    "            # 遍历每个样本词语，出现即为1，不出现为0，返回一个列表\n",
    "            features = [1 if word in text_words else 0 for word in feature_words]\n",
    "        else:\n",
    "            features = []\n",
    "        return features\n",
    "    # 训练样本 二维列表 \n",
    "    train_feature_list = [text_features(text, feature_words) for text in train_data_list]\n",
    "    # 测试样本 二维列表\n",
    "    test_feature_list = [text_features(text, feature_words) for text in test_data_list]        \n",
    "    return train_feature_list, test_feature_list              "
   ]
  },
  {
   "cell_type": "code",
   "execution_count": 14,
   "metadata": {},
   "outputs": [
    {
     "name": "stdout",
     "output_type": "stream",
     "text": [
      "训练样本个数： 71\n",
      "测试样本个数： 19\n",
      "样本特征维度： 1000\n",
      "测试集的第6个样本的前100个值： [1, 1, 0, 0, 0, 0, 0, 1, 0, 0, 1, 0, 1, 0, 1, 1, 0, 0, 1, 0, 0, 0, 1, 1, 1, 0, 0, 0, 1, 0, 0, 1, 1, 1, 1, 1, 0, 1, 0, 0, 0, 0, 0, 0, 0, 0, 0, 1, 0, 1, 0, 1, 0, 0, 0, 1, 0, 0, 0, 0, 1, 0, 0, 0, 0, 0, 0, 0, 0, 1, 0, 0, 0, 0, 1, 0, 0, 0, 0, 0, 0, 1, 0, 0, 0, 0, 0, 0, 0, 1, 0, 0, 0, 0, 1, 0, 0, 0, 0, 1]\n"
     ]
    }
   ],
   "source": [
    "flag = 'sklearn'\n",
    "train_feature_list, test_feature_list = \\\n",
    "    text_features(train_data_list, test_data_list, feature_words, flag)\n",
    "print(\"训练样本个数：\", len(train_feature_list)) \n",
    "print(\"测试样本个数：\", len(test_feature_list))   \n",
    "print(\"样本特征维度：\", len(test_feature_list[5]))  \n",
    "print(\"测试集的第6个样本的前100个值：\",test_feature_list[5][0:100]) "
   ]
  },
  {
   "cell_type": "markdown",
   "metadata": {},
   "source": [
    "## 用贝叶斯模型进行训练和预测"
   ]
  },
  {
   "cell_type": "code",
   "execution_count": 33,
   "metadata": {},
   "outputs": [],
   "source": [
    "# 分类，输出准确率\n",
    "def text_classifier(train_feature_list, test_feature_list, \n",
    "                    train_label_list, test_label_list, flag=\"nltk\"):\n",
    "    if flag == 'nltk':\n",
    "        ## 使用nltk分类器\n",
    "        train_flist = zip(train_feature_list, train_label_list)\n",
    "        train_flist = list(train_flist) \n",
    "        test_flist = zip(test_feature_list, test_label_list)\n",
    "        train_flist = list(test_flist) \n",
    "        classifier = nltk.classify.NaiveBayesClassifier.train(train_flist)\n",
    "        test_accuracy = nltk.classify.accuracy(classifier, test_flist)\n",
    "        \n",
    "    elif flag == 'sklearn':\n",
    "        ## sklearn分类器\n",
    "        classifier = MultinomialNB().fit(train_feature_list, train_label_list)\n",
    "        # MultinomialNB()的使用方法和参数见：https://www.cnblogs.com/pinard/p/6074222.html\n",
    "        # https://scikit-learn.org/stable/modules/naive_bayes.html#complement-naive-bayes\n",
    "        test_accuracy = classifier.score(test_feature_list, test_label_list)\n",
    "    else:\n",
    "        test_accuracy = []\n",
    "    return test_accuracy"
   ]
  },
  {
   "cell_type": "code",
   "execution_count": 26,
   "metadata": {},
   "outputs": [
    {
     "name": "stdout",
     "output_type": "stream",
     "text": [
      "测试准确率： 0.7368421052631579\n"
     ]
    }
   ],
   "source": [
    "flag='sklearn'\n",
    "test_accuracy = text_classifier(train_feature_list, test_feature_list, \n",
    "                                    train_label_list, test_label_list, flag)\n",
    "print(\"测试准确率：\", test_accuracy)"
   ]
  },
  {
   "cell_type": "markdown",
   "metadata": {},
   "source": [
    "## 调参与可视化\n",
    "这步调参，查看不同的deleteNs对模型效果的影响"
   ]
  },
  {
   "cell_type": "code",
   "execution_count": 31,
   "metadata": {},
   "outputs": [
    {
     "name": "stdout",
     "output_type": "stream",
     "text": [
      "start\n",
      "总样本数： 90\n",
      "[0.6842105263157895, 0.6842105263157895, 0.6842105263157895, 0.6842105263157895, 0.7368421052631579, 0.7368421052631579, 0.7368421052631579, 0.7368421052631579, 0.6842105263157895, 0.7368421052631579, 0.7368421052631579, 0.7368421052631579, 0.7368421052631579, 0.6842105263157895, 0.7368421052631579, 0.7368421052631579, 0.6842105263157895, 0.7368421052631579, 0.6842105263157895, 0.631578947368421, 0.6842105263157895, 0.6842105263157895, 0.5263157894736842, 0.5789473684210527, 0.5789473684210527, 0.631578947368421, 0.5789473684210527, 0.5789473684210527, 0.5789473684210527, 0.5789473684210527, 0.631578947368421, 0.631578947368421, 0.5789473684210527, 0.5789473684210527, 0.5789473684210527, 0.5789473684210527, 0.5789473684210527, 0.631578947368421, 0.631578947368421, 0.631578947368421, 0.631578947368421, 0.631578947368421, 0.631578947368421, 0.631578947368421, 0.631578947368421, 0.631578947368421, 0.5789473684210527, 0.5789473684210527, 0.5263157894736842, 0.5263157894736842]\n"
     ]
    },
    {
     "data": {
      "image/png": "[encoded data removed]",
      "text/plain": [
       "<Figure size 432x288 with 1 Axes>"
      ]
     },
     "metadata": {
      "needs_background": "light"
     },
     "output_type": "display_data"
    },
    {
     "name": "stdout",
     "output_type": "stream",
     "text": [
      "finished\n"
     ]
    }
   ],
   "source": [
    "print (\"start\")\n",
    "\n",
    "# 文本预处理\n",
    "folder_path = './Database/SogouC/Sample'\n",
    "\n",
    "all_words_list, train_data_list, train_class_list, test_data_list, test_class_list = text_processing(folder_path, test_rate=0.2)\n",
    "\n",
    "# 生成stopwords_set\n",
    "stopwords_file = './stopwords_cn.txt'\n",
    "stopwords_set = make_word_set(stopwords_file)\n",
    "\n",
    "# 文本特征提取和分类\n",
    "flag = 'sklearn'\n",
    "deleteNs = range(0, 1000, 20)\n",
    "test_accuracy_list = []\n",
    "for deleteN in deleteNs:\n",
    "    feature_words = vocab_select(all_words_list, deleteN, stopwords_set)\n",
    "    train_feature_list, test_feature_list = text_features(train_data_list, test_data_list, feature_words, flag)\n",
    "    test_accuracy = text_classifier(train_feature_list, test_feature_list, train_class_list, test_class_list, flag)\n",
    "    test_accuracy_list.append(test_accuracy)\n",
    "print(test_accuracy_list)\n",
    "\n",
    "# 结果评价\n",
    "plt.figure()\n",
    "plt.plot(deleteNs, test_accuracy_list)\n",
    "plt.title('Relationship of deleteNs and test_accuracy')\n",
    "plt.xlabel('deleteNs')\n",
    "plt.ylabel('test_accuracy')\n",
    "plt.show()\n",
    "#plt.savefig('result.png')\n",
    "\n",
    "print (\"finished\")"
   ]
  },
  {
   "cell_type": "code",
   "execution_count": 35,
   "metadata": {},
   "outputs": [],
   "source": [
    "from sklearn.naive_bayes import ComplementNB, GaussianNB, BernoulliNB"
   ]
  },
  {
   "cell_type": "code",
   "execution_count": 34,
   "metadata": {},
   "outputs": [
    {
     "name": "stdout",
     "output_type": "stream",
     "text": [
      "start\n",
      "总样本数： 90\n",
      "[0.7368421052631579, 0.7368421052631579, 0.7368421052631579, 0.7368421052631579, 0.7368421052631579, 0.7368421052631579, 0.7368421052631579, 0.7368421052631579, 0.7368421052631579, 0.7368421052631579, 0.7368421052631579, 0.7368421052631579, 0.7368421052631579, 0.7368421052631579, 0.7368421052631579, 0.7894736842105263, 0.8421052631578947, 0.8421052631578947, 0.8421052631578947, 0.8421052631578947, 0.8421052631578947, 0.8421052631578947, 0.8421052631578947, 0.8421052631578947, 0.8421052631578947, 0.7894736842105263, 0.7894736842105263, 0.8947368421052632, 0.8947368421052632, 0.8947368421052632, 0.8421052631578947, 0.8421052631578947, 0.8421052631578947, 0.8421052631578947, 0.8421052631578947, 0.8947368421052632, 0.8947368421052632, 0.8421052631578947, 0.8421052631578947, 0.8421052631578947, 0.7894736842105263, 0.7894736842105263, 0.7894736842105263, 0.8421052631578947, 0.8421052631578947, 0.8421052631578947, 0.8421052631578947, 0.8947368421052632, 0.8947368421052632, 0.8947368421052632]\n"
     ]
    },
    {
     "data": {
      "image/png": "[encoded data removed]",
      "text/plain": [
       "<Figure size 432x288 with 1 Axes>"
      ]
     },
     "metadata": {
      "needs_background": "light"
     },
     "output_type": "display_data"
    },
    {
     "name": "stdout",
     "output_type": "stream",
     "text": [
      "finished\n"
     ]
    }
   ],
   "source": [
    "print (\"start\")\n",
    "\n",
    "# 文本预处理\n",
    "folder_path = './Database/SogouC/Sample'\n",
    "\n",
    "all_words_list, train_data_list, train_class_list, test_data_list, test_class_list = text_processing(folder_path, test_rate=0.2)\n",
    "\n",
    "# 生成stopwords_set\n",
    "stopwords_file = './stopwords_cn.txt'\n",
    "stopwords_set = make_word_set(stopwords_file)\n",
    "\n",
    "# 文本特征提取和分类\n",
    "flag = 'sklearn'\n",
    "deleteNs = range(0, 1000, 20)\n",
    "test_accuracy_list = []\n",
    "for deleteN in deleteNs:\n",
    "    feature_words = vocab_select(all_words_list, deleteN, stopwords_set)\n",
    "    train_feature_list, test_feature_list = text_features(train_data_list, test_data_list, feature_words, flag)\n",
    "    test_accuracy = text_classifier(train_feature_list, test_feature_list, train_class_list, test_class_list, flag)\n",
    "    test_accuracy_list.append(test_accuracy)\n",
    "print(test_accuracy_list)\n",
    "\n",
    "# 结果评价\n",
    "plt.figure()\n",
    "plt.plot(deleteNs, test_accuracy_list)\n",
    "plt.title('Relationship of deleteNs and test_accuracy')\n",
    "plt.xlabel('deleteNs')\n",
    "plt.ylabel('test_accuracy')\n",
    "plt.show()\n",
    "#plt.savefig('result.png')\n",
    "\n",
    "print (\"finished\")"
   ]
  },
  {
   "cell_type": "markdown",
   "metadata": {},
   "source": [
    "## 不同贝叶斯分类的对比"
   ]
  },
  {
   "cell_type": "code",
   "execution_count": 39,
   "metadata": {},
   "outputs": [],
   "source": [
    "# 分类\n",
    "def text_classifier_by_sklearn(train_feature_list, test_feature_list, \n",
    "                    train_label_list, test_label_list, sklearn_class_func=MultinomialNB):\n",
    "    # sklearn分类器\n",
    "    classifier = sklearn_class_func().fit(train_feature_list, train_label_list)\n",
    "    # MultinomialNB()的使用方法和参数见：https://www.cnblogs.com/pinard/p/6074222.html\n",
    "    test_accuracy = classifier.score(test_feature_list, test_label_list)\n",
    "    return test_accuracy"
   ]
  },
  {
   "cell_type": "code",
   "execution_count": 43,
   "metadata": {},
   "outputs": [
    {
     "name": "stdout",
     "output_type": "stream",
     "text": [
      "总样本数： 90\n",
      "MultinomialNB Accu: 0.6842105263157895\n",
      "GaussianNB Accu: 0.631578947368421\n",
      "ComplementNB Accu: 0.6842105263157895\n",
      "BernoulliNB Accu: 0.6842105263157895\n"
     ]
    }
   ],
   "source": [
    "\n",
    "# 文本预处理\n",
    "folder_path = './Database/SogouC/Sample'\n",
    "\n",
    "all_words_list, train_data_list, train_class_list, test_data_list, test_class_list = text_processing(folder_path, test_rate=0.2)\n",
    "\n",
    "# 生成stopwords_set\n",
    "stopwords_file = './stopwords_cn.txt'\n",
    "stopwords_set = make_word_set(stopwords_file)\n",
    "\n",
    "deleteN = 20\n",
    "feature_words = vocab_select(all_words_list, deleteN, stopwords_set)\n",
    "train_feature_list, test_feature_list = text_features(train_data_list, test_data_list, feature_words, flag)\n",
    "\n",
    "name_func_dict = {\n",
    "    \"MultinomialNB\": MultinomialNB,\n",
    "    \"GaussianNB\": GaussianNB, \n",
    "    \"ComplementNB\": ComplementNB, \n",
    "    \"BernoulliNB\": ComplementNB,\n",
    "}\n",
    "\n",
    "for func_name, func in name_func_dict.items():\n",
    "    test_accuracy = text_classifier_by_sklearn(train_feature_list, test_feature_list, \n",
    "                                train_class_list, test_class_list, sklearn_class_func=func)\n",
    "    print(\"{} Accu: {}\".format(func_name, test_accuracy))   \n"
   ]
  },
  {
   "cell_type": "code",
   "execution_count": null,
   "metadata": {},
   "outputs": [],
   "source": []
  }
 ],
 "metadata": {
  "kernelspec": {
   "display_name": "Python 3",
   "language": "python",
   "name": "python3"
  },
  "language_info": {
   "codemirror_mode": {
    "name": "ipython",
    "version": 3
   },
   "file_extension": ".py",
   "mimetype": "text/x-python",
   "name": "python",
   "nbconvert_exporter": "python",
   "pygments_lexer": "ipython3",
   "version": "3.6.9"
  }
 },
 "nbformat": 4,
 "nbformat_minor": 2
}
