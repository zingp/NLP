{
 "cells": [
  {
   "cell_type": "code",
   "execution_count": 1,
   "metadata": {},
   "outputs": [
    {
     "name": "stdout",
     "output_type": "stream",
     "text": [
      "Collecting pyahocorasick\n",
      "  Downloading pyahocorasick-1.4.2.tar.gz (321 kB)\n",
      "\u001b[K     |████████████████████████████████| 321 kB 62 kB/s eta 0:00:011    |██                              | 20 kB 257 kB/s eta 0:00:02     |█████████████████████████▌      | 256 kB 132 kB/s eta 0:00:01\n",
      "\u001b[?25hBuilding wheels for collected packages: pyahocorasick\n",
      "  Building wheel for pyahocorasick (setup.py) ... \u001b[?25ldone\n",
      "\u001b[?25h  Created wheel for pyahocorasick: filename=pyahocorasick-1.4.2-cp36-cp36m-linux_x86_64.whl size=92655 sha256=8c217f2ae8126f412e2d2acf33c9205fa94c6d4109454a990e243e4de574814d\n",
      "  Stored in directory: /home/dc/.cache/pip/wheels/13/37/bd/c904d816433e1f65c97ca85c56823f1a7cb0dcaf3af2b17798\n",
      "Successfully built pyahocorasick\n",
      "Installing collected packages: pyahocorasick\n",
      "Successfully installed pyahocorasick-1.4.2\n",
      "\u001b[33mWARNING: You are using pip version 20.2.3; however, version 21.0.1 is available.\n",
      "You should consider upgrading via the '/usr/local/anaconda2/envs/pt-tf-env/bin/python -m pip install --upgrade pip' command.\u001b[0m\n"
     ]
    }
   ],
   "source": [
    "! pip install pyahocorasick"
   ]
  },
  {
   "cell_type": "code",
   "execution_count": 2,
   "metadata": {},
   "outputs": [],
   "source": [
    "import ahocorasick\n",
    "import time"
   ]
  },
  {
   "cell_type": "code",
   "execution_count": null,
   "metadata": {},
   "outputs": [],
   "source": [
    " \n",
    " \n",
    "class AhocorasickNer:\n",
    "    def __init__(self, user_dict_path):\n",
    "        self.user_dict_path = user_dict_path\n",
    "        self.actree = ahocorasick.Automaton()\n",
    " \n",
    " \n",
    "    def add_keywords(self):\n",
    "        flag = 0\n",
    "        with open(self.user_dict_path, \"r\", encoding=\"utf-8\") as file:\n",
    "            for line in file:\n",
    "                word, flag = line.strip(), flag + 1\n",
    "                self.actree.add_word(word, (flag, word))\n",
    "        self.actree.make_automaton()\n",
    " \n",
    " \n",
    "    def get_ner_results(self, sentence):\n",
    "        ner_results = []\n",
    "        # i的形式为(index1,(index2,word))\n",
    "        # index1: 提取后的结果在sentence中的末尾索引\n",
    "        # index2: 提取后的结果在self.actree中的索引\n",
    "        for i in self.actree.iter(sentence):\n",
    "            ner_results.append((i[1], i[0] + 1 - len(i[1][1]), i[0] + 1))"
   ]
  },
  {
   "cell_type": "code",
   "execution_count": null,
   "metadata": {},
   "outputs": [],
   "source": [
    "class AcTree(object):"
   ]
  },
  {
   "cell_type": "code",
   "execution_count": 14,
   "metadata": {},
   "outputs": [],
   "source": [
    "ac = ahocorasick.Automaton()"
   ]
  },
  {
   "cell_type": "code",
   "execution_count": 15,
   "metadata": {},
   "outputs": [
    {
     "data": {
      "text/plain": [
       "True"
      ]
     },
     "execution_count": 15,
     "metadata": {},
     "output_type": "execute_result"
    }
   ],
   "source": [
    "ac.add_word(\"喜马拉雅APP\", (1, \"喜马拉雅APP\"))"
   ]
  },
  {
   "cell_type": "code",
   "execution_count": 16,
   "metadata": {},
   "outputs": [
    {
     "data": {
      "text/plain": [
       "True"
      ]
     },
     "execution_count": 16,
     "metadata": {},
     "output_type": "execute_result"
    }
   ],
   "source": [
    "ac.add_word(\"喜马拉雅山\", (0, \"喜马拉雅山\"))"
   ]
  },
  {
   "cell_type": "code",
   "execution_count": 28,
   "metadata": {},
   "outputs": [
    {
     "data": {
      "text/plain": [
       "True"
      ]
     },
     "execution_count": 28,
     "metadata": {},
     "output_type": "execute_result"
    }
   ],
   "source": [
    "ac.add_word(\"喜马拉雅\", (0, \"喜马拉雅\"))"
   ]
  },
  {
   "cell_type": "code",
   "execution_count": 17,
   "metadata": {},
   "outputs": [
    {
     "data": {
      "text/plain": [
       "True"
      ]
     },
     "execution_count": 17,
     "metadata": {},
     "output_type": "execute_result"
    }
   ],
   "source": [
    "ac.add_word(\"毛主席\", (1, \"毛主席\"))"
   ]
  },
  {
   "cell_type": "code",
   "execution_count": 24,
   "metadata": {},
   "outputs": [
    {
     "data": {
      "text/plain": [
       "False"
      ]
     },
     "execution_count": 24,
     "metadata": {},
     "output_type": "execute_result"
    }
   ],
   "source": [
    "ac.add_word(\"毛主席\", (1.2, \"毛主席\"))"
   ]
  },
  {
   "cell_type": "code",
   "execution_count": 18,
   "metadata": {},
   "outputs": [],
   "source": [
    "s = \"毛主席在喜马拉雅山上收听喜马拉雅APP, 喜马拉雅山真美丽啊\""
   ]
  },
  {
   "cell_type": "code",
   "execution_count": 29,
   "metadata": {},
   "outputs": [],
   "source": [
    "ac.make_automaton()"
   ]
  },
  {
   "cell_type": "code",
   "execution_count": 30,
   "metadata": {},
   "outputs": [
    {
     "name": "stdout",
     "output_type": "stream",
     "text": [
      "毛主席 (0, 2) 1.2\n",
      "喜马拉雅 (4, 7) 0\n",
      "喜马拉雅山 (4, 8) 0\n",
      "喜马拉雅 (12, 15) 0\n",
      "喜马拉雅APP (12, 18) 1\n",
      "喜马拉雅 (21, 24) 0\n",
      "喜马拉雅山 (21, 25) 0\n"
     ]
    }
   ],
   "source": [
    "for i in ac.iter(s):\n",
    "    word = i[-1][-1]\n",
    "    start_idx = i[0]-len(word) + 1\n",
    "    end_idx = i[0]\n",
    "    weights = i[-1][0]\n",
    "    print(word, (start_idx, end_idx), weights)\n",
    "    #print(i)\n",
    "#     print(s[i[0]-i[0]])"
   ]
  },
  {
   "cell_type": "markdown",
   "metadata": {},
   "source": [
    "-词-权重-类别\n",
    "1 如何解决一个词对应的类别很多"
   ]
  },
  {
   "cell_type": "markdown",
   "metadata": {},
   "source": [
    "# \n",
    "- 短文本处理-娇喘\n",
    "- 文本多分类-AC自动机\n",
    "- 模型多分类\n",
    "- 侵权- 向量搜索\n",
    "- 如何解决少数民族\n",
    "- "
   ]
  },
  {
   "cell_type": "code",
   "execution_count": 1,
   "metadata": {},
   "outputs": [],
   "source": [
    "import gensim"
   ]
  },
  {
   "cell_type": "code",
   "execution_count": 2,
   "metadata": {},
   "outputs": [],
   "source": [
    "?gensim.models.Word2Vec.load"
   ]
  },
  {
   "cell_type": "code",
   "execution_count": null,
   "metadata": {},
   "outputs": [],
   "source": []
  }
 ],
 "metadata": {
  "kernelspec": {
   "display_name": "Python 3",
   "language": "python",
   "name": "python3"
  },
  "language_info": {
   "codemirror_mode": {
    "name": "ipython",
    "version": 3
   },
   "file_extension": ".py",
   "mimetype": "text/x-python",
   "name": "python",
   "nbconvert_exporter": "python",
   "pygments_lexer": "ipython3",
   "version": "3.6.9"
  }
 },
 "nbformat": 4,
 "nbformat_minor": 2
}
